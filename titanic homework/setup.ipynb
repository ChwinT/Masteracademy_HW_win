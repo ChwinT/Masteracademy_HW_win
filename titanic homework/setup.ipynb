from setuptools import setup, find_packages
from pathlib import Path

classifiers = [
  'Development Status :: 5 - Production/Stable',
  'Intended Audience :: Education',
  'Operating System :: Microsoft :: Windows :: Windows 11',
  'License :: OSI Approved :: MIT License',
  'Programming Language :: Python :: 3'
]
 
this_directory = Path(__file__).parent
long_description = (this_directory / "README.md").read_text(encoding='utf8') + '\n\n' + (this_directory / "CHANGELOG.md").read_text(encoding='utf8')

setup(
  name='chawinfunction',
  version='0.0.1',
  description='First library',
  long_description=long_description,
  long_description_content_type='text/markdown',
  url='',  
  author='Win Chwin',
  author_email='chawin2007@gmail.com',
  license='MIT', 
  classifiers=classifiers,
  keywords='winchawin', 
  packages=find_packages(),
  install_requires=['numpy', 'pandas', 'matplotlib.pyplot','scipy.stats'] 
)
